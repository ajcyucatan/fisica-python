{
  "nbformat": 4,
  "nbformat_minor": 0,
  "metadata": {
    "colab": {
      "name": "fisica-computacional.ipynb",
      "provenance": [],
      "collapsed_sections": []
    },
    "language_info": {
      "codemirror_mode": {
        "name": "ipython",
        "version": 3
      },
      "file_extension": ".py",
      "mimetype": "text/x-python",
      "name": "python",
      "nbconvert_exporter": "python",
      "pygments_lexer": "ipython3",
      "version": "3.7.1"
    },
    "kernelspec": {
      "display_name": "Python 3",
      "language": "python",
      "name": "python3"
    }
  },
  "cells": [
    {
      "cell_type": "markdown",
      "metadata": {
        "id": "QQZUmwDWuYrQ",
        "colab_type": "text"
      },
      "source": [
        "# ¡Pensemos en Física!"
      ]
    },
    {
      "cell_type": "markdown",
      "metadata": {
        "id": "MY3plPzkuYrT",
        "colab_type": "text"
      },
      "source": [
        "## Experimentemos con recursividad y datos..."
      ]
    },
    {
      "cell_type": "markdown",
      "metadata": {
        "colab_type": "text",
        "id": "-hAWneDol97Q"
      },
      "source": [
        "Primero, importamos algunas bibliotecas que serán útiles para el desarrollo de nuestro programa."
      ]
    },
    {
      "cell_type": "code",
      "metadata": {
        "colab_type": "code",
        "id": "5XQ9PvnxmSvU",
        "colab": {}
      },
      "source": [
        "import pandas as pd   # Se utiliza para leer archivos con formatos de columnas\n",
        "import matplotlib.pyplot as plt   # Para graficar conjuntos de datos\n",
        "import math   # Para operaciones matemáticas \"no triviales\""
      ],
      "execution_count": 0,
      "outputs": []
    },
    {
      "cell_type": "markdown",
      "metadata": {
        "colab_type": "text",
        "id": "zhUUKpG3PWOT"
      },
      "source": [
        "Debemos abrir un archivo donde se guardarán nuestros datos generados por recursividad, imprimiendo las etiquetas que caracterizarán nuestras columnas."
      ]
    },
    {
      "cell_type": "code",
      "metadata": {
        "colab_type": "code",
        "id": "4CqC0l0_PggD",
        "outputId": "ca406f2d-67ce-471d-ed2a-a01a436a2256",
        "colab": {
          "base_uri": "https://localhost:8080/",
          "height": 34
        }
      },
      "source": [
        "file = open('datos.csv', 'w')\n",
        "file.write(\"tiempo,posicion\\n\")"
      ],
      "execution_count": 0,
      "outputs": [
        {
          "output_type": "execute_result",
          "data": {
            "text/plain": [
              "16"
            ]
          },
          "metadata": {
            "tags": []
          },
          "execution_count": 7
        }
      ]
    },
    {
      "cell_type": "markdown",
      "metadata": {
        "id": "a2rS9trxuYrb",
        "colab_type": "text"
      },
      "source": [
        "### El problema"
      ]
    },
    {
      "cell_type": "markdown",
      "metadata": {
        "colab_type": "text",
        "id": "dmzD0L6aPKes"
      },
      "source": [
        "Consideremos un movimiento rectilíneo uniforme, donde la aceleración es cero y, por lo tanto, tenemos velocidad constante.\n",
        "\n",
        "- Se deben definir las variables junto con sus valores iniciales.\n",
        "- Los imprimimos en el archivo que hemos creado.\n",
        "- Importante colocar el espaciador *\\n* para separar por filas."
      ]
    },
    {
      "cell_type": "code",
      "metadata": {
        "colab_type": "code",
        "id": "KQxAsm6rmy3Z",
        "colab": {}
      },
      "source": [
        "tiempo = 0\n",
        "t = 0.001\n",
        "\n",
        "posicion_vieja = 0\n",
        "posicion_nueva = 0\n",
        "velocidad = 1\n",
        "\n",
        "file.write(str(tiempo)+','+str(posicion_vieja)+'\\n')\n",
        "\n",
        "data = pd.read_csv('datos.csv', delimiter = ',')"
      ],
      "execution_count": 0,
      "outputs": []
    },
    {
      "cell_type": "markdown",
      "metadata": {
        "colab_type": "text",
        "id": "3wPJKNv9P16K"
      },
      "source": [
        "- Comenzamos con la recursividad y los métodos numéricos.\n",
        "\n",
        "- Utilizaremos el método de Euler para calcular valores posteriores al actual.\n",
        "\n",
        "- Es importante que en cada iteración guardemos los valores que acabamos de calcular."
      ]
    },
    {
      "cell_type": "code",
      "metadata": {
        "colab_type": "code",
        "id": "Vh9UD8mGQWur",
        "colab": {}
      },
      "source": [
        "for i in range(1,1001):\n",
        "  tiempo = tiempo + t\n",
        "  posicion_nueva = posicion_vieja + velocidad*t\n",
        "  posicion_vieja = posicion_nueva\n",
        "  file.write(str(tiempo)+','+str(posicion_nueva)+'\\n')"
      ],
      "execution_count": 0,
      "outputs": []
    },
    {
      "cell_type": "markdown",
      "metadata": {
        "colab_type": "text",
        "id": "ZsZymie3Q5hr"
      },
      "source": [
        "Una vez que la recursión ha terminado, se cierra el archivo. Este paso es importante para continuar con el análisis dentro del mismo archivo de Python."
      ]
    },
    {
      "cell_type": "code",
      "metadata": {
        "colab_type": "code",
        "id": "p2JWVoCxQ9Ag",
        "colab": {}
      },
      "source": [
        "file.close()"
      ],
      "execution_count": 0,
      "outputs": []
    },
    {
      "cell_type": "markdown",
      "metadata": {
        "colab_type": "text",
        "id": "OshifokMQ_W1"
      },
      "source": [
        "Ahora usaremos la biblioteca Pandas. Con Pandas podemos leer con mucha facilidad los archivos con columnas que cuentan con etiquetas para deferenciarlas.\n",
        "\n",
        "Abramos el archivo que acabamos de cerrar, y verifiquemos lo que contiene:"
      ]
    },
    {
      "cell_type": "code",
      "metadata": {
        "colab_type": "code",
        "id": "3Kx9_ghgRVso",
        "outputId": "06b5d9f6-c6fd-449f-eabe-f8e5e936e9c4",
        "colab": {
          "base_uri": "https://localhost:8080/",
          "height": 1000
        }
      },
      "source": [
        "data = pd.read_csv('datos.csv', delimiter = ',')\n",
        "\n",
        "print(data)"
      ],
      "execution_count": 0,
      "outputs": [
        {
          "output_type": "stream",
          "text": [
            "      tiempo  posicion\n",
            "0      0.000     0.000\n",
            "1      0.001     0.001\n",
            "2      0.002     0.002\n",
            "3      0.003     0.003\n",
            "4      0.004     0.004\n",
            "5      0.005     0.005\n",
            "6      0.006     0.006\n",
            "7      0.007     0.007\n",
            "8      0.008     0.008\n",
            "9      0.009     0.009\n",
            "10     0.010     0.010\n",
            "11     0.011     0.011\n",
            "12     0.012     0.012\n",
            "13     0.013     0.013\n",
            "14     0.014     0.014\n",
            "15     0.015     0.015\n",
            "16     0.016     0.016\n",
            "17     0.017     0.017\n",
            "18     0.018     0.018\n",
            "19     0.019     0.019\n",
            "20     0.020     0.020\n",
            "21     0.021     0.021\n",
            "22     0.022     0.022\n",
            "23     0.023     0.023\n",
            "24     0.024     0.024\n",
            "25     0.025     0.025\n",
            "26     0.026     0.026\n",
            "27     0.027     0.027\n",
            "28     0.028     0.028\n",
            "29     0.029     0.029\n",
            "...      ...       ...\n",
            "971    0.971     0.971\n",
            "972    0.972     0.972\n",
            "973    0.973     0.973\n",
            "974    0.974     0.974\n",
            "975    0.975     0.975\n",
            "976    0.976     0.976\n",
            "977    0.977     0.977\n",
            "978    0.978     0.978\n",
            "979    0.979     0.979\n",
            "980    0.980     0.980\n",
            "981    0.981     0.981\n",
            "982    0.982     0.982\n",
            "983    0.983     0.983\n",
            "984    0.984     0.984\n",
            "985    0.985     0.985\n",
            "986    0.986     0.986\n",
            "987    0.987     0.987\n",
            "988    0.988     0.988\n",
            "989    0.989     0.989\n",
            "990    0.990     0.990\n",
            "991    0.991     0.991\n",
            "992    0.992     0.992\n",
            "993    0.993     0.993\n",
            "994    0.994     0.994\n",
            "995    0.995     0.995\n",
            "996    0.996     0.996\n",
            "997    0.997     0.997\n",
            "998    0.998     0.998\n",
            "999    0.999     0.999\n",
            "1000   1.000     1.000\n",
            "\n",
            "[1001 rows x 2 columns]\n"
          ],
          "name": "stdout"
        }
      ]
    },
    {
      "cell_type": "markdown",
      "metadata": {
        "colab_type": "text",
        "id": "Up27fHBzSUa9"
      },
      "source": [
        "### Grafiquemos\n",
        "\n",
        "Como se puede apreciar, se ha simulado un segundo completo. Ahora, vamos a graficar lo obtenido, utilizando la biblioteca Matplotlib:"
      ]
    },
    {
      "cell_type": "code",
      "metadata": {
        "colab_type": "code",
        "id": "zEMEj1GDT1qe",
        "outputId": "b3a78f8d-1c21-49b6-c40c-8852e13dc28c",
        "colab": {
          "base_uri": "https://localhost:8080/",
          "height": 269
        }
      },
      "source": [
        "plt.plot(data['tiempo'],data['posicion'])\n",
        "plt.show()"
      ],
      "execution_count": 0,
      "outputs": [
        {
          "output_type": "display_data",
          "data": {
            "image/png": "[encoded data removed]",
            "text/plain": [
              "<Figure size 432x288 with 1 Axes>"
            ]
          },
          "metadata": {
            "tags": []
          }
        }
      ]
    },
    {
      "cell_type": "markdown",
      "metadata": {
        "colab_type": "text",
        "id": "jF--QI-WUFR2"
      },
      "source": [
        "Obtuvimos una preciosa línea recta, característica del movimiento rectilíneo uniforme.\n",
        "\n",
        "\n",
        "\n",
        "Ahora vamos a trabajar con un tiro parabólico. Definimos nuestras variables correspondientes, pero ahora utilizaremos listas:"
      ]
    },
    {
      "cell_type": "code",
      "metadata": {
        "colab_type": "code",
        "id": "Lsotv5PofUUx",
        "colab": {}
      },
      "source": [
        "y = 0 # Posición vertical\n",
        "vel_y = 0 # Velocidad en y variable\n",
        "\n",
        "x = 0 # Posición horizontal\n",
        "vel_x = 0 # Velocidad en x constante\n",
        "\n",
        "tiempo = 0\n",
        "t = 0.001\n",
        "\n",
        "g = 9.81 # Aceleración\n",
        "angulo = 60*(math.pi/180) # Ángulo en radianes\n",
        "\n",
        "vel_inic = 20 # Esta es la verdadera velocidad inicial"
      ],
      "execution_count": 0,
      "outputs": []
    },
    {
      "cell_type": "markdown",
      "metadata": {
        "colab_type": "text",
        "id": "PhNAcvApeqTy"
      },
      "source": [
        "Abrimos un nuevo archivo para el caso del tiro parabólico:"
      ]
    },
    {
      "cell_type": "code",
      "metadata": {
        "colab_type": "code",
        "id": "kFMdMO3tg5CX",
        "colab": {}
      },
      "source": [
        "file1 = open('tiro.csv', 'w')\n",
        "file1.write(\"tiempo,x,y,vel_x,vel_y\\n\")"
      ],
      "execution_count": 0,
      "outputs": []
    },
    {
      "cell_type": "markdown",
      "metadata": {
        "colab_type": "text",
        "id": "oj8Q_-CaiYaK"
      },
      "source": [
        "Las velocidades iniciales en *x, y* dependen del ángulo. Hay que calcularlos e imprimirlos en la primera fila del archivo:"
      ]
    },
    {
      "cell_type": "code",
      "metadata": {
        "colab_type": "code",
        "id": "mo8T4ocZi58_",
        "colab": {}
      },
      "source": [
        "vel_y = vel_inic*math.sin(angulo)\n",
        "\n",
        "vel_x = vel_inic*math.cos(angulo) # Valor constante\n",
        "\n",
        "file1.write(str(tiempo) + ',' + str(x) + ',' + str(y) + ',' + str(vel_x) + ',' + str(vel_y)+'\\n')"
      ],
      "execution_count": 0,
      "outputs": []
    },
    {
      "cell_type": "markdown",
      "metadata": {
        "colab_type": "text",
        "id": "2tV-Hijkj7Pa"
      },
      "source": [
        "Ahora comienza la sección de recursión:"
      ]
    },
    {
      "cell_type": "code",
      "metadata": {
        "colab_type": "code",
        "id": "f31gJoM0j-mf",
        "colab": {}
      },
      "source": [
        "# Recursión\n",
        "for i in range(1,3501):\n",
        "  tiempo = tiempo + t  \n",
        "  x = x + (vel_x)*(t)\n",
        "  \n",
        "  vel_y = vel_y - g*t # La velocidad vertical varía\n",
        "  y = y + (vel_y)*(t)\n",
        "  \n",
        "  \n",
        "  file1.write(str(tiempo) + ',' + str(x) + ',' + str(y) + ',' + str(vel_x) + ',' + str(vel_y)+'\\n')"
      ],
      "execution_count": 0,
      "outputs": []
    },
    {
      "cell_type": "markdown",
      "metadata": {
        "colab_type": "text",
        "id": "-gzj99k6n46a"
      },
      "source": [
        "Una vez finalizada la recursión, cerramos el archivo."
      ]
    },
    {
      "cell_type": "code",
      "metadata": {
        "colab_type": "code",
        "id": "pAHTrVEzn8ng",
        "colab": {}
      },
      "source": [
        "file1.close()"
      ],
      "execution_count": 0,
      "outputs": []
    },
    {
      "cell_type": "markdown",
      "metadata": {
        "colab_type": "text",
        "id": "WsKO-83fn-jf"
      },
      "source": [
        "Abrimos el archivo con pandas"
      ]
    },
    {
      "cell_type": "code",
      "metadata": {
        "colab_type": "code",
        "id": "HRgIUmhmoAa6",
        "outputId": "7600ce74-a4ff-431a-9086-9828c714f798",
        "colab": {
          "base_uri": "https://localhost:8080/",
          "height": 1000
        }
      },
      "source": [
        "data1 = pd.read_csv('tiro.csv', delimiter=',')\n",
        "print(data1)"
      ],
      "execution_count": 0,
      "outputs": [
        {
          "output_type": "stream",
          "text": [
            "      tiempo      x         y  vel_x      vel_y\n",
            "0      0.000   0.00  0.000000   10.0  17.320508\n",
            "1      0.001   0.01  0.017311   10.0  17.310698\n",
            "2      0.002   0.02  0.034612   10.0  17.300888\n",
            "3      0.003   0.03  0.051903   10.0  17.291078\n",
            "4      0.004   0.04  0.069184   10.0  17.281268\n",
            "5      0.005   0.05  0.086455   10.0  17.271458\n",
            "6      0.006   0.06  0.103717   10.0  17.261648\n",
            "7      0.007   0.07  0.120969   10.0  17.251838\n",
            "8      0.008   0.08  0.138211   10.0  17.242028\n",
            "9      0.009   0.09  0.155443   10.0  17.232218\n",
            "10     0.010   0.10  0.172666   10.0  17.222408\n",
            "11     0.011   0.11  0.189878   10.0  17.212598\n",
            "12     0.012   0.12  0.207081   10.0  17.202788\n",
            "13     0.013   0.13  0.224274   10.0  17.192978\n",
            "14     0.014   0.14  0.241457   10.0  17.183168\n",
            "15     0.015   0.15  0.258630   10.0  17.173358\n",
            "16     0.016   0.16  0.275794   10.0  17.163548\n",
            "17     0.017   0.17  0.292948   10.0  17.153738\n",
            "18     0.018   0.18  0.310092   10.0  17.143928\n",
            "19     0.019   0.19  0.327226   10.0  17.134118\n",
            "20     0.020   0.20  0.344350   10.0  17.124308\n",
            "21     0.021   0.21  0.361465   10.0  17.114498\n",
            "22     0.022   0.22  0.378569   10.0  17.104688\n",
            "23     0.023   0.23  0.395664   10.0  17.094878\n",
            "24     0.024   0.24  0.412749   10.0  17.085068\n",
            "25     0.025   0.25  0.429824   10.0  17.075258\n",
            "26     0.026   0.26  0.446890   10.0  17.065448\n",
            "27     0.027   0.27  0.463946   10.0  17.055638\n",
            "28     0.028   0.28  0.480991   10.0  17.045828\n",
            "29     0.029   0.29  0.498027   10.0  17.036018\n",
            "...      ...    ...       ...    ...        ...\n",
            "3471   3.471  34.71  1.007798   10.0 -16.730002\n",
            "3472   3.472  34.72  0.991058   10.0 -16.739812\n",
            "3473   3.473  34.73  0.974309   10.0 -16.749622\n",
            "3474   3.474  34.74  0.957549   10.0 -16.759432\n",
            "3475   3.475  34.75  0.940780   10.0 -16.769242\n",
            "3476   3.476  34.76  0.924001   10.0 -16.779052\n",
            "3477   3.477  34.77  0.907212   10.0 -16.788862\n",
            "3478   3.478  34.78  0.890413   10.0 -16.798672\n",
            "3479   3.479  34.79  0.873605   10.0 -16.808482\n",
            "3480   3.480  34.80  0.856787   10.0 -16.818292\n",
            "3481   3.481  34.81  0.839959   10.0 -16.828102\n",
            "3482   3.482  34.82  0.823121   10.0 -16.837912\n",
            "3483   3.483  34.83  0.806273   10.0 -16.847722\n",
            "3484   3.484  34.84  0.789415   10.0 -16.857532\n",
            "3485   3.485  34.85  0.772548   10.0 -16.867342\n",
            "3486   3.486  34.86  0.755671   10.0 -16.877152\n",
            "3487   3.487  34.87  0.738784   10.0 -16.886962\n",
            "3488   3.488  34.88  0.721887   10.0 -16.896772\n",
            "3489   3.489  34.89  0.704981   10.0 -16.906582\n",
            "3490   3.490  34.90  0.688064   10.0 -16.916392\n",
            "3491   3.491  34.91  0.671138   10.0 -16.926202\n",
            "3492   3.492  34.92  0.654202   10.0 -16.936012\n",
            "3493   3.493  34.93  0.637256   10.0 -16.945822\n",
            "3494   3.494  34.94  0.620301   10.0 -16.955632\n",
            "3495   3.495  34.95  0.603335   10.0 -16.965442\n",
            "3496   3.496  34.96  0.586360   10.0 -16.975252\n",
            "3497   3.497  34.97  0.569375   10.0 -16.985062\n",
            "3498   3.498  34.98  0.552380   10.0 -16.994872\n",
            "3499   3.499  34.99  0.535375   10.0 -17.004682\n",
            "3500   3.500  35.00  0.518361   10.0 -17.014492\n",
            "\n",
            "[3501 rows x 5 columns]\n"
          ],
          "name": "stdout"
        }
      ]
    },
    {
      "cell_type": "markdown",
      "metadata": {
        "colab_type": "text",
        "id": "3Pwa2mquoNNR"
      },
      "source": [
        "Ahora graficamos directamente con las etiquetas. Graficaremos la posición vertical contra tiempo:"
      ]
    },
    {
      "cell_type": "code",
      "metadata": {
        "colab_type": "code",
        "id": "u_hzkaxdoV5M",
        "outputId": "d5e45f0d-cb82-4a1d-e6ea-d04d4601b190",
        "colab": {
          "base_uri": "https://localhost:8080/",
          "height": 538
        }
      },
      "source": [
        "plt.plot(data1['tiempo'],data1['x'])\n",
        "plt.show()\n",
        "\n",
        "plt.plot(data1['tiempo'], data1['y'])\n",
        "plt.show()"
      ],
      "execution_count": 0,
      "outputs": [
        {
          "output_type": "display_data",
          "data": {
            "image/png": "[encoded data removed]",
            "text/plain": [
              "<Figure size 432x288 with 1 Axes>"
            ]
          },
          "metadata": {
            "tags": []
          }
        },
        {
          "output_type": "execute_result",
          "data": {
            "text/plain": [
              "[<matplotlib.lines.Line2D at 0x7fb6868dd470>]"
            ]
          },
          "metadata": {
            "tags": []
          },
          "execution_count": 439
        },
        {
          "output_type": "display_data",
          "data": {
            "image/png": "[encoded data removed]",
            "text/plain": [
              "<Figure size 432x288 with 1 Axes>"
            ]
          },
          "metadata": {
            "tags": []
          }
        }
      ]
    }
  ]
}